{
 "cells": [
  {
   "cell_type": "code",
   "execution_count": 1,
   "metadata": {},
   "outputs": [],
   "source": [
    "import csv \n",
    "import datetime\n",
    "\n",
    "with open('guns.csv','r') as csvfile:\n",
    "    read = csv.reader(csvfile)\n",
    "    data = list(read)"
   ]
  },
  {
   "cell_type": "code",
   "execution_count": 2,
   "metadata": {
    "scrolled": true
   },
   "outputs": [],
   "source": [
    "header = data[:1]\n",
    "data = data[1:]\n"
   ]
  },
  {
   "cell_type": "markdown",
   "metadata": {},
   "source": [
    "### Next: I want to get some unique data. I want the years in the data. Which should be 2012, 2013, 2014 and how many deaths per year."
   ]
  },
  {
   "cell_type": "code",
   "execution_count": 3,
   "metadata": {
    "scrolled": true
   },
   "outputs": [
    {
     "data": {
      "text/plain": [
       "{'2012': 33564, '2013': 33637, '2014': 33600}"
      ]
     },
     "execution_count": 3,
     "metadata": {},
     "output_type": "execute_result"
    }
   ],
   "source": [
    "years = [row[1] for row in data]\n",
    "year_counts = {}\n",
    "for i in years:\n",
    "    if i not in year_counts:\n",
    "        year_counts[i] = 1\n",
    "    year_counts[i] += 1\n",
    "year_counts"
   ]
  },
  {
   "cell_type": "markdown",
   "metadata": {},
   "source": [
    "### Next: I want to break it down even more. I want to see deaths per month. Since day is not given in the original data we are just assigning a 1 to the day."
   ]
  },
  {
   "cell_type": "code",
   "execution_count": 4,
   "metadata": {
    "scrolled": true
   },
   "outputs": [],
   "source": [
    "dates = [datetime.datetime(year=int(row[1]),month=int(row[2]),day=1) for row in data]\n",
    "date_counts = {}\n",
    "for i in dates:\n",
    "    if i not in date_counts:\n",
    "        date_counts[i] = 1\n",
    "    date_counts[i] += 1\n",
    "# date_counts"
   ]
  },
  {
   "cell_type": "markdown",
   "metadata": {},
   "source": [
    "### Next: I want to see how many deaths: Male vs. Female. Also breaking it down to race specific categories and how many deaths in each."
   ]
  },
  {
   "cell_type": "code",
   "execution_count": 5,
   "metadata": {},
   "outputs": [
    {
     "data": {
      "text/plain": [
       "({'M': 86350, 'F': 14450},\n",
       " {'Asian/Pacific Islander': 1327,\n",
       "  'White': 66238,\n",
       "  'Native American/Native Alaskan': 918,\n",
       "  'Black': 23297,\n",
       "  'Hispanic': 9023})"
      ]
     },
     "execution_count": 5,
     "metadata": {},
     "output_type": "execute_result"
    }
   ],
   "source": [
    "sex = [row[5] for row in data]\n",
    "race = [row[7] for row in data]\n",
    "\n",
    "sex_counts = {}\n",
    "race_counts = {}\n",
    "\n",
    "for i in sex:\n",
    "    if i not in sex_counts:\n",
    "        sex_counts[i] = 1\n",
    "    sex_counts[i] += 1\n",
    "\n",
    "for i in race:\n",
    "    if i not in race_counts:\n",
    "        race_counts[i] = 1\n",
    "    race_counts[i] += 1\n",
    "    \n",
    "sex_counts, race_counts\n"
   ]
  },
  {
   "cell_type": "markdown",
   "metadata": {},
   "source": [
    "## Next: This entire next section is comparing the data from gun deaths to the total population of each race in the U.S. The goal is to find the percent of death per 100,000 in the U.S. relative to the specific category of race."
   ]
  },
  {
   "cell_type": "code",
   "execution_count": 6,
   "metadata": {},
   "outputs": [],
   "source": [
    "with open('census.csv','r') as csvfile:\n",
    "    read = csv.reader(csvfile)\n",
    "    census = list(read)\n",
    "    header = census[:1]\n",
    "    census = census[1:]\n",
    "    "
   ]
  },
  {
   "cell_type": "markdown",
   "metadata": {},
   "source": [
    "### Next: Created a custom dict because the verbage of both csv files, in relation to the race, are different."
   ]
  },
  {
   "cell_type": "code",
   "execution_count": 7,
   "metadata": {},
   "outputs": [],
   "source": [
    "mapping = {\n",
    "    'Asian/Pacific Islander': 15159516 + 674625,\n",
    "    'Black': 40250635,\n",
    "    'Native American/Native Alaskan': 3739506,\n",
    "    'Hispanic': 44618105,\n",
    "    'White': 197318956,\n",
    "}\n",
    "\n",
    "race_per_hundredk = {}\n",
    "\n",
    "for key, value in race_counts.items():\n",
    "    race_per_hundredk[key] = '{}%'.format(round((value / mapping[key]) * 100000))\n",
    "    "
   ]
  },
  {
   "cell_type": "markdown",
   "metadata": {},
   "source": [
    "### Next: I wanted to extract the data that specifically addressed homicide victims. Then try to find the unique data. > How many homicide victims per race category."
   ]
  },
  {
   "cell_type": "code",
   "execution_count": 8,
   "metadata": {},
   "outputs": [
    {
     "data": {
      "text/plain": [
       "{'White': 9148,\n",
       " 'Asian/Pacific Islander': 560,\n",
       " 'Black': 19511,\n",
       " 'Native American/Native Alaskan': 327,\n",
       " 'Hispanic': 5635}"
      ]
     },
     "execution_count": 8,
     "metadata": {},
     "output_type": "execute_result"
    }
   ],
   "source": [
    "homicide_data = []\n",
    "for row in data:\n",
    "    if row[3] == \"Homicide\":\n",
    "        homicide_data.append(row)\n",
    "\n",
    "homicide_victim_by_race = {}\n",
    "\n",
    "for row in homicide_data:\n",
    "    if row[7] not in homicide_victim_by_race:\n",
    "        homicide_victim_by_race[row[7]] = 1\n",
    "    homicide_victim_by_race[row[7]] += 1\n",
    "homicide_victim_by_race"
   ]
  },
  {
   "cell_type": "markdown",
   "metadata": {},
   "source": [
    "### Next: I wanted to find the percent per 100,000, per race category, of homicide victims."
   ]
  },
  {
   "cell_type": "code",
   "execution_count": 9,
   "metadata": {
    "scrolled": true
   },
   "outputs": [
    {
     "data": {
      "text/plain": [
       "{'White': '5%',\n",
       " 'Asian/Pacific Islander': '4%',\n",
       " 'Black': '48%',\n",
       " 'Native American/Native Alaskan': '9%',\n",
       " 'Hispanic': '13%'}"
      ]
     },
     "execution_count": 9,
     "metadata": {},
     "output_type": "execute_result"
    }
   ],
   "source": [
    "race_per_hundredtk = {}\n",
    "for key, value in homicide_victim_by_race.items():\n",
    "    race_per_hundredtk[key] = '{}%'.format(round((value / mapping[key]) * 100000))\n",
    "race_per_hundredtk"
   ]
  },
  {
   "cell_type": "markdown",
   "metadata": {},
   "source": [
    "### Next: I just wanted to find the % of the population each race occupies in the U.S."
   ]
  },
  {
   "cell_type": "code",
   "execution_count": 10,
   "metadata": {},
   "outputs": [
    {
     "data": {
      "text/plain": [
       "{'Asian/Pacific Islander': '5%',\n",
       " 'White': '62%',\n",
       " 'Native American/Native Alaskan': '1%',\n",
       " 'Black': '13%',\n",
       " 'Hispanic': '14%'}"
      ]
     },
     "execution_count": 10,
     "metadata": {},
     "output_type": "execute_result"
    }
   ],
   "source": [
    "percent_pop_by_race = {}\n",
    "for key, value in race_counts.items():\n",
    "    percent_pop_by_race[key] = '{}%'.format(round((mapping[key] / 316200000) * 100))\n",
    "percent_pop_by_race"
   ]
  },
  {
   "cell_type": "markdown",
   "metadata": {},
   "source": [
    "### Next: this data is seeing all deaths related to guns per race category. Not homicide specific. (per 100,000)"
   ]
  },
  {
   "cell_type": "code",
   "execution_count": 11,
   "metadata": {
    "scrolled": true
   },
   "outputs": [
    {
     "data": {
      "text/plain": [
       "{'Asian/Pacific Islander': '8%',\n",
       " 'White': '34%',\n",
       " 'Native American/Native Alaskan': '25%',\n",
       " 'Black': '58%',\n",
       " 'Hispanic': '20%'}"
      ]
     },
     "execution_count": 11,
     "metadata": {},
     "output_type": "execute_result"
    }
   ],
   "source": [
    "race_per_hundredk = {}\n",
    "\n",
    "for key, value in race_counts.items():\n",
    "    race_per_hundredk[key] = '{}%'.format(round((value / mapping[key]) * 100000))\n",
    "\n",
    "race_per_hundredk"
   ]
  },
  {
   "cell_type": "markdown",
   "metadata": {},
   "source": [
    "### Next: This was the way the homicide extraction was done, but I like my way from previous. I could just be noob."
   ]
  },
  {
   "cell_type": "code",
   "execution_count": 12,
   "metadata": {
    "scrolled": true
   },
   "outputs": [
    {
     "data": {
      "text/plain": [
       "{'Asian/Pacific Islander': '4%',\n",
       " 'White': '5%',\n",
       " 'Native American/Native Alaskan': '9%',\n",
       " 'Black': '48%',\n",
       " 'Hispanic': '13%'}"
      ]
     },
     "execution_count": 12,
     "metadata": {},
     "output_type": "execute_result"
    }
   ],
   "source": [
    "intents = [row[3] for row in data]\n",
    "races = [row[7] for row in data]\n",
    "\n",
    "homicide_race_counts = {}\n",
    "for i,race in enumerate(races):\n",
    "    if race not in homicide_race_counts:\n",
    "        homicide_race_counts[race] = 0\n",
    "    if intents[i] == \"Homicide\":\n",
    "        homicide_race_counts[race] += 1\n",
    "\n",
    "race_per_hundred_thou = {}\n",
    "for k,v in homicide_race_counts.items():\n",
    "    race_per_hundred_thou[k] = '{}%'.format(round((v / mapping[k]) * 100000))\n",
    "\n",
    "race_per_hundred_thou\n"
   ]
  },
  {
   "cell_type": "markdown",
   "metadata": {},
   "source": [
    "### Next: I wanted to find the difference in suicides between males and females."
   ]
  },
  {
   "cell_type": "code",
   "execution_count": 21,
   "metadata": {},
   "outputs": [
    {
     "data": {
      "text/plain": [
       "{'M': 54487, 'F': 8690}"
      ]
     },
     "execution_count": 21,
     "metadata": {},
     "output_type": "execute_result"
    }
   ],
   "source": [
    "death_by_suicide = []\n",
    "for row in data:\n",
    "    if row[3] == \"Suicide\":\n",
    "        death_by_suicide.append(row)\n",
    "\n",
    "male_v_female_suicide = {}\n",
    "for row in death_by_suicide:\n",
    "    if row[5] not in male_v_female_suicide:\n",
    "        male_v_female_suicide[row[5]] = 1\n",
    "    male_v_female_suicide[row[5]] += 1\n",
    "\n",
    "male_v_female_suicide\n",
    "    \n"
   ]
  },
  {
   "cell_type": "code",
   "execution_count": 22,
   "metadata": {},
   "outputs": [
    {
     "data": {
      "text/plain": [
       "63175"
      ]
     },
     "execution_count": 22,
     "metadata": {},
     "output_type": "execute_result"
    }
   ],
   "source": [
    "total_suicides = len(death_by_suicide)\n",
    "total_suicides"
   ]
  },
  {
   "cell_type": "code",
   "execution_count": 23,
   "metadata": {},
   "outputs": [
    {
     "data": {
      "text/plain": [
       "{'M': '86%', 'F': '14%'}"
      ]
     },
     "execution_count": 23,
     "metadata": {},
     "output_type": "execute_result"
    }
   ],
   "source": [
    "percent_per_gender = {}\n",
    "\n",
    "for key, value in male_v_female_suicide.items():\n",
    "    percent_per_gender[key] = '{}%'.format(round((value / total_suicides) * 100))\n",
    "\n",
    "percent_per_gender\n"
   ]
  },
  {
   "cell_type": "markdown",
   "metadata": {},
   "source": [
    "### As you can see... Males dominate this category with 86%, whereas Females are 14% of the total commited in this time frame."
   ]
  }
 ],
 "metadata": {
  "kernelspec": {
   "display_name": "Python 3",
   "language": "python",
   "name": "python3"
  },
  "language_info": {
   "codemirror_mode": {
    "name": "ipython",
    "version": 3
   },
   "file_extension": ".py",
   "mimetype": "text/x-python",
   "name": "python",
   "nbconvert_exporter": "python",
   "pygments_lexer": "ipython3",
   "version": "3.7.0"
  }
 },
 "nbformat": 4,
 "nbformat_minor": 1
}
