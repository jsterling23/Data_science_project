{
 "cells": [
  {
   "cell_type": "code",
   "execution_count": 130,
   "metadata": {
    "collapsed": true
   },
   "outputs": [],
   "source": [
    "import csv \n",
    "import datetime\n",
    "\n",
    "with open('guns.csv','r') as csvfile:\n",
    "    read = csv.reader(csvfile)\n",
    "    data = list(read)\n"
   ]
  },
  {
   "cell_type": "code",
   "execution_count": 131,
   "metadata": {
    "collapsed": true
   },
   "outputs": [],
   "source": [
    "header = data[:1]\n",
    "data = data[1:]"
   ]
  },
  {
   "cell_type": "code",
   "execution_count": 132,
   "metadata": {
    "collapsed": false
   },
   "outputs": [],
   "source": [
    "years = [row[1] for row in data]\n",
    "year_counts = {}\n",
    "for i in years:\n",
    "    if i not in year_counts:\n",
    "        year_counts[i] = 1\n",
    "    year_counts[i] += 1"
   ]
  },
  {
   "cell_type": "code",
   "execution_count": 133,
   "metadata": {
    "collapsed": false
   },
   "outputs": [],
   "source": [
    "dates = [datetime.datetime(year=int(row[1]),month=int(row[2]),day=1) for row in data]\n",
    "date_counts = {}\n",
    "for i in dates:\n",
    "    if i not in date_counts:\n",
    "        date_counts[i] = 1\n",
    "    date_counts[i] += 1"
   ]
  },
  {
   "cell_type": "code",
   "execution_count": 134,
   "metadata": {
    "collapsed": false
   },
   "outputs": [
    {
     "data": {
      "text/plain": [
       "{'Asian/Pacific Islander': 1327,\n",
       " 'Black': 23297,\n",
       " 'Hispanic': 9023,\n",
       " 'Native American/Native Alaskan': 918,\n",
       " 'White': 66238}"
      ]
     },
     "execution_count": 134,
     "metadata": {},
     "output_type": "execute_result"
    }
   ],
   "source": [
    "sex = [row[5] for row in data]\n",
    "race = [row[7] for row in data]\n",
    "\n",
    "sex_counts = {}\n",
    "race_counts = {}\n",
    "\n",
    "for i in sex:\n",
    "    if i not in sex_counts:\n",
    "        sex_counts[i] = 1\n",
    "    sex_counts[i] += 1\n",
    "\n",
    "for i in race:\n",
    "    if i not in race_counts:\n",
    "        race_counts[i] = 1\n",
    "    race_counts[i] += 1\n",
    "race_counts\n"
   ]
  },
  {
   "cell_type": "code",
   "execution_count": 135,
   "metadata": {
    "collapsed": false
   },
   "outputs": [],
   "source": [
    "with open('census.csv','r') as csvfile:\n",
    "    read = csv.reader(csvfile)\n",
    "    census = list(read)\n",
    "#     header = census[:1]\n",
    "#     census = census[1:]\n",
    "    "
   ]
  },
  {
   "cell_type": "code",
   "execution_count": 136,
   "metadata": {
    "collapsed": true
   },
   "outputs": [],
   "source": [
    "mapping = {\n",
    "    'Asian/Pacific Islander': 15159516 + 674625,\n",
    "    'Black': 40250635,\n",
    "    'Native American/Native Alaskan': 3739506,\n",
    "    'Hispanic': 44618105,\n",
    "    'White': 197318956,\n",
    "}\n",
    "\n",
    "race_per_hundredk = {}\n",
    "\n",
    "for key, value in race_counts.items():\n",
    "    race_per_hundredk[key] = '{}%'.format(round((value / mapping[key]) * 100000))\n",
    "    "
   ]
  },
  {
   "cell_type": "markdown",
   "metadata": {},
   "source": [
    "Below this is just random data I played with finding the homicide victims. Then doing the percents on just that data."
   ]
  },
  {
   "cell_type": "code",
   "execution_count": null,
   "metadata": {
    "collapsed": false
   },
   "outputs": [
    {
     "ename": "SyntaxError",
     "evalue": "invalid syntax (<ipython-input-144-d95b33837216>, line 1)",
     "output_type": "error",
     "traceback": [
      "\u001b[1;36m  File \u001b[1;32m\"<ipython-input-144-d95b33837216>\"\u001b[1;36m, line \u001b[1;32m1\u001b[0m\n\u001b[1;33m    homicide_data = [row[3] if row[3] == 'Homicide' for row in data]\u001b[0m\n\u001b[1;37m                                                      ^\u001b[0m\n\u001b[1;31mSyntaxError\u001b[0m\u001b[1;31m:\u001b[0m invalid syntax\n"
     ]
    }
   ],
   "source": [
    "homicide_data = [row[3] if row[3] == 'Homicide' for row in data]\n",
    "# for row in data:\n",
    "#     if row[3] == \"Homicide\":\n",
    "#         homicide_data.append(row)\n",
    "\n",
    "homicide_victim_by_race = {}\n",
    "\n",
    "for row in homicide_data:\n",
    "    if row[7] not in homicide_victim_by_race:\n",
    "        homicide_victim_by_race[row[7]] = 1\n",
    "    homicide_victim_by_race[row[7]] += 1\n",
    "homicide_victim_by_race"
   ]
  },
  {
   "cell_type": "code",
   "execution_count": 138,
   "metadata": {
    "collapsed": false
   },
   "outputs": [
    {
     "data": {
      "text/plain": [
       "{'Asian/Pacific Islander': '4%',\n",
       " 'Black': '48%',\n",
       " 'Hispanic': '13%',\n",
       " 'Native American/Native Alaskan': '9%',\n",
       " 'White': '5%'}"
      ]
     },
     "execution_count": 138,
     "metadata": {},
     "output_type": "execute_result"
    }
   ],
   "source": [
    "race_per_hundredtk = {}\n",
    "for key, value in homicide_by_race.items():\n",
    "    race_per_hundredtk[key] = '{}%'.format(round((value / mapping[key]) * 100000))\n",
    "race_per_hundredtk"
   ]
  },
  {
   "cell_type": "code",
   "execution_count": 139,
   "metadata": {
    "collapsed": false
   },
   "outputs": [
    {
     "data": {
      "text/plain": [
       "{'Asian/Pacific Islander': '5%',\n",
       " 'Black': '13%',\n",
       " 'Hispanic': '14%',\n",
       " 'Native American/Native Alaskan': '1%',\n",
       " 'White': '62%'}"
      ]
     },
     "execution_count": 139,
     "metadata": {},
     "output_type": "execute_result"
    }
   ],
   "source": [
    "percent_pop_by_race = {}\n",
    "for key, value in race_counts.items():\n",
    "    percent_pop_by_race[key] = '{}%'.format(round((mapping[key] / 316200000) * 100))\n",
    "percent_pop_by_race"
   ]
  },
  {
   "cell_type": "markdown",
   "metadata": {},
   "source": [
    "END OF MY MESSIN AROUND WITH THE HOMICIDE DATA</curiosity>"
   ]
  },
  {
   "cell_type": "code",
   "execution_count": 140,
   "metadata": {
    "collapsed": false
   },
   "outputs": [
    {
     "data": {
      "text/plain": [
       "{'Asian/Pacific Islander': '8%',\n",
       " 'Black': '58%',\n",
       " 'Hispanic': '20%',\n",
       " 'Native American/Native Alaskan': '25%',\n",
       " 'White': '34%'}"
      ]
     },
     "execution_count": 140,
     "metadata": {},
     "output_type": "execute_result"
    }
   ],
   "source": [
    "race_per_hundredk = {}\n",
    "\n",
    "for key, value in race_counts.items():\n",
    "    race_per_hundredk[key] = '{}%'.format(round((value / mapping[key]) * 100000))\n",
    "\n",
    "race_per_hundredk"
   ]
  },
  {
   "cell_type": "code",
   "execution_count": 141,
   "metadata": {
    "collapsed": false
   },
   "outputs": [
    {
     "data": {
      "text/plain": [
       "{'Asian/Pacific Islander': '4%',\n",
       " 'Black': '48%',\n",
       " 'Hispanic': '13%',\n",
       " 'Native American/Native Alaskan': '9%',\n",
       " 'White': '5%'}"
      ]
     },
     "execution_count": 141,
     "metadata": {},
     "output_type": "execute_result"
    }
   ],
   "source": [
    "intents = [row[3] for row in data]\n",
    "races = [row[7] for row in data]\n",
    "\n",
    "homicide_race_counts = {}\n",
    "for i,race in enumerate(races):\n",
    "    if race not in homicide_race_counts:\n",
    "        homicide_race_counts[race] = 0\n",
    "    if intents[i] == \"Homicide\":\n",
    "        homicide_race_counts[race] += 1\n",
    "\n",
    "race_per_hundred_thou = {}\n",
    "for k,v in homicide_race_counts.items():\n",
    "    race_per_hundred_thou[k] = '{}%'.format(round((v / mapping[k]) * 100000))\n",
    "\n",
    "race_per_hundred_thou\n"
   ]
  },
  {
   "cell_type": "code",
   "execution_count": null,
   "metadata": {
    "collapsed": true
   },
   "outputs": [],
   "source": []
  }
 ],
 "metadata": {
  "kernelspec": {
   "display_name": "Python 3",
   "language": "python",
   "name": "python3"
  },
  "language_info": {
   "codemirror_mode": {
    "name": "ipython",
    "version": 3
   },
   "file_extension": ".py",
   "mimetype": "text/x-python",
   "name": "python",
   "nbconvert_exporter": "python",
   "pygments_lexer": "ipython3",
   "version": "3.4.3"
  }
 },
 "nbformat": 4,
 "nbformat_minor": 0
}
